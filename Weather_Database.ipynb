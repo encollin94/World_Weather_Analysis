{
 "cells": [
  {
   "cell_type": "code",
   "execution_count": 1,
   "id": "58976af3",
   "metadata": {},
   "outputs": [],
   "source": [
    "# Import the dependencies.\n",
    "import pandas as pd\n",
    "import matplotlib.pyplot as plt\n",
    "import numpy as np\n",
    "# Use the citipy module to determine city based on latitude and longitude.\n",
    "from citipy import citipy\n",
    "# Import the requests library.\n",
    "import requests\n",
    "# Import the API key.\n",
    "from config import weather_api_key\n",
    "# Import the time library and the datetime module from the datetime library \n",
    "import time\n",
    "from datetime import datetime"
   ]
  },
  {
   "cell_type": "code",
   "execution_count": 2,
   "id": "f505299c",
   "metadata": {},
   "outputs": [
    {
     "data": {
      "text/plain": [
       "<zip at 0x179200a0388>"
      ]
     },
     "execution_count": 2,
     "metadata": {},
     "output_type": "execute_result"
    }
   ],
   "source": [
    "# Create a set of random latitude and longitude combinations.\n",
    "lats = np.random.uniform(low=-90.000, high=90.000, size=2000)\n",
    "lngs = np.random.uniform(low=-180.000, high=180.000, size=2000)\n",
    "lat_lngs = zip(lats, lngs)\n",
    "lat_lngs"
   ]
  },
  {
   "cell_type": "code",
   "execution_count": 3,
   "id": "7c71745e",
   "metadata": {},
   "outputs": [],
   "source": [
    "# Add the latitudes and longitudes to a list.\n",
    "coordinates = list(lat_lngs)"
   ]
  },
  {
   "cell_type": "code",
   "execution_count": 4,
   "id": "9fcbd303",
   "metadata": {},
   "outputs": [
    {
     "data": {
      "text/plain": [
       "762"
      ]
     },
     "execution_count": 4,
     "metadata": {},
     "output_type": "execute_result"
    }
   ],
   "source": [
    "# Create a list for holding the cities.\n",
    "cities = []\n",
    "# Identify the nearest city for each latitude and longitude combination.\n",
    "for coordinate in coordinates:\n",
    "    city = citipy.nearest_city(coordinate[0], coordinate[1]).city_name\n",
    "\n",
    "    # If the city is unique, then we will add it to the cities list.\n",
    "    if city not in cities:\n",
    "        cities.append(city)\n",
    "# Print the city count to confirm sufficient count.\n",
    "len(cities)"
   ]
  },
  {
   "cell_type": "code",
   "execution_count": 5,
   "id": "53cd724b",
   "metadata": {},
   "outputs": [
    {
     "name": "stdout",
     "output_type": "stream",
     "text": [
      "http://api.openweathermap.org/data/2.5/weather?units=Imperial&APPID=e67bae4b8f4d959828f048359f17a790\n"
     ]
    }
   ],
   "source": [
    "# Starting URL for Weather Map API Call.\n",
    "url = \"http://api.openweathermap.org/data/2.5/weather?units=Imperial&APPID=\" + weather_api_key\n",
    "print(url)"
   ]
  },
  {
   "cell_type": "code",
   "execution_count": 6,
   "id": "d6bca1cd",
   "metadata": {},
   "outputs": [
    {
     "name": "stdout",
     "output_type": "stream",
     "text": [
      "Beginning Data Retrieval     \n",
      "-----------------------------\n"
     ]
    }
   ],
   "source": [
    "# Create an empty list to hold the weather data.\n",
    "city_data = []\n",
    "# Print the beginning of the logging.\n",
    "print(\"Beginning Data Retrieval     \")\n",
    "print(\"-----------------------------\")\n",
    "\n",
    "# Create counters.\n",
    "record_count = 1\n",
    "set_count = 1"
   ]
  },
  {
   "cell_type": "code",
   "execution_count": null,
   "id": "55902dbc",
   "metadata": {},
   "outputs": [
    {
     "name": "stdout",
     "output_type": "stream",
     "text": [
      "Processing Record 2 of Set 1 | georgetown\n",
      "list indices must be integers or slices, not str\n",
      "Processing Record 3 of Set 1 | obihiro\n",
      "list indices must be integers or slices, not str\n",
      "Processing Record 4 of Set 1 | clarence town\n",
      "list indices must be integers or slices, not str\n",
      "Processing Record 5 of Set 1 | pitimbu\n",
      "list indices must be integers or slices, not str\n",
      "Processing Record 6 of Set 1 | soria\n",
      "list indices must be integers or slices, not str\n",
      "Processing Record 7 of Set 1 | mataura\n",
      "list indices must be integers or slices, not str\n",
      "Processing Record 8 of Set 1 | zhetybay\n",
      "'coord'\n",
      "Processing Record 9 of Set 1 | qaanaaq\n",
      "list indices must be integers or slices, not str\n",
      "Processing Record 10 of Set 1 | upata\n",
      "list indices must be integers or slices, not str\n",
      "Processing Record 11 of Set 1 | hermanus\n",
      "list indices must be integers or slices, not str\n",
      "Processing Record 12 of Set 1 | mahebourg\n",
      "list indices must be integers or slices, not str\n",
      "Processing Record 13 of Set 1 | rungata\n",
      "'coord'\n",
      "Processing Record 14 of Set 1 | olafsvik\n",
      "list indices must be integers or slices, not str\n",
      "Processing Record 15 of Set 1 | albany\n",
      "list indices must be integers or slices, not str\n",
      "Processing Record 16 of Set 1 | east london\n",
      "list indices must be integers or slices, not str\n",
      "Processing Record 17 of Set 1 | rikitea\n",
      "list indices must be integers or slices, not str\n",
      "Processing Record 18 of Set 1 | phan thiet\n",
      "list indices must be integers or slices, not str\n",
      "Processing Record 19 of Set 1 | jamestown\n",
      "list indices must be integers or slices, not str\n",
      "Processing Record 20 of Set 1 | tuktoyaktuk\n",
      "list indices must be integers or slices, not str\n",
      "Processing Record 21 of Set 1 | dikson\n",
      "list indices must be integers or slices, not str\n",
      "Processing Record 22 of Set 1 | emerald\n",
      "list indices must be integers or slices, not str\n",
      "Processing Record 23 of Set 1 | robinson\n",
      "list indices must be integers or slices, not str\n",
      "Processing Record 24 of Set 1 | caravelas\n",
      "list indices must be integers or slices, not str\n",
      "Processing Record 25 of Set 1 | hastings\n",
      "list indices must be integers or slices, not str\n",
      "Processing Record 26 of Set 1 | airai\n",
      "list indices must be integers or slices, not str\n",
      "Processing Record 27 of Set 1 | alofi\n",
      "list indices must be integers or slices, not str\n",
      "Processing Record 28 of Set 1 | puerto ayora\n",
      "list indices must be integers or slices, not str\n",
      "Processing Record 29 of Set 1 | punta arenas\n",
      "list indices must be integers or slices, not str\n",
      "Processing Record 30 of Set 1 | hauterive\n",
      "list indices must be integers or slices, not str\n",
      "Processing Record 31 of Set 1 | saldanha\n",
      "list indices must be integers or slices, not str\n",
      "Processing Record 32 of Set 1 | saskylakh\n",
      "list indices must be integers or slices, not str\n",
      "Processing Record 33 of Set 1 | cape town\n",
      "list indices must be integers or slices, not str\n",
      "Processing Record 34 of Set 1 | new norfolk\n",
      "list indices must be integers or slices, not str\n",
      "Processing Record 35 of Set 1 | moose factory\n",
      "list indices must be integers or slices, not str\n",
      "Processing Record 36 of Set 1 | los llanos de aridane\n",
      "list indices must be integers or slices, not str\n",
      "Processing Record 37 of Set 1 | williston\n",
      "list indices must be integers or slices, not str\n",
      "Processing Record 38 of Set 1 | batagay-alyta\n",
      "list indices must be integers or slices, not str\n",
      "Processing Record 39 of Set 1 | pisco\n",
      "list indices must be integers or slices, not str\n",
      "Processing Record 40 of Set 1 | iqaluit\n",
      "list indices must be integers or slices, not str\n",
      "Processing Record 41 of Set 1 | hobart\n",
      "list indices must be integers or slices, not str\n",
      "Processing Record 42 of Set 1 | ushuaia\n",
      "list indices must be integers or slices, not str\n",
      "Processing Record 43 of Set 1 | yellowknife\n",
      "list indices must be integers or slices, not str\n",
      "Processing Record 44 of Set 1 | maningrida\n",
      "list indices must be integers or slices, not str\n",
      "Processing Record 45 of Set 1 | thompson\n",
      "list indices must be integers or slices, not str\n",
      "Processing Record 46 of Set 1 | lolua\n",
      "'coord'\n",
      "Processing Record 47 of Set 1 | talnakh\n",
      "list indices must be integers or slices, not str\n",
      "Processing Record 48 of Set 1 | biak\n",
      "list indices must be integers or slices, not str\n",
      "Processing Record 49 of Set 1 | portland\n",
      "list indices must be integers or slices, not str\n",
      "Processing Record 50 of Set 1 | galgani\n",
      "'coord'\n",
      "Processing Record 51 of Set 1 | barrow\n",
      "list indices must be integers or slices, not str\n",
      "Processing Record 1 of Set 2 | husavik\n",
      "list indices must be integers or slices, not str\n",
      "Processing Record 2 of Set 2 | namatanai\n",
      "list indices must be integers or slices, not str\n",
      "Processing Record 3 of Set 2 | cherskiy\n",
      "list indices must be integers or slices, not str\n",
      "Processing Record 4 of Set 2 | dargaville\n",
      "list indices must be integers or slices, not str\n",
      "Processing Record 5 of Set 2 | narsaq\n",
      "list indices must be integers or slices, not str\n",
      "Processing Record 6 of Set 2 | lebu\n",
      "list indices must be integers or slices, not str\n",
      "Processing Record 7 of Set 2 | luba\n",
      "list indices must be integers or slices, not str\n",
      "Processing Record 8 of Set 2 | port alfred\n",
      "list indices must be integers or slices, not str\n",
      "Processing Record 9 of Set 2 | isangel\n",
      "list indices must be integers or slices, not str\n",
      "Processing Record 10 of Set 2 | methala\n",
      "list indices must be integers or slices, not str\n",
      "Processing Record 11 of Set 2 | mayo\n",
      "list indices must be integers or slices, not str\n",
      "Processing Record 12 of Set 2 | busselton\n",
      "list indices must be integers or slices, not str\n",
      "Processing Record 13 of Set 2 | palwal\n",
      "list indices must be integers or slices, not str\n",
      "Processing Record 14 of Set 2 | bambous virieux\n",
      "list indices must be integers or slices, not str\n",
      "Processing Record 15 of Set 2 | vaini\n",
      "list indices must be integers or slices, not str\n",
      "Processing Record 16 of Set 2 | port macquarie\n",
      "list indices must be integers or slices, not str\n",
      "Processing Record 17 of Set 2 | gat\n",
      "list indices must be integers or slices, not str\n",
      "Processing Record 18 of Set 2 | hobbs\n",
      "list indices must be integers or slices, not str\n",
      "Processing Record 19 of Set 2 | lagoa\n",
      "list indices must be integers or slices, not str\n",
      "Processing Record 20 of Set 2 | palatka\n",
      "list indices must be integers or slices, not str\n",
      "Processing Record 21 of Set 2 | clyde river\n",
      "list indices must be integers or slices, not str\n",
      "Processing Record 22 of Set 2 | cidreira\n",
      "list indices must be integers or slices, not str\n",
      "Processing Record 23 of Set 2 | srednekolymsk\n",
      "list indices must be integers or slices, not str\n",
      "Processing Record 24 of Set 2 | elat\n",
      "list indices must be integers or slices, not str\n",
      "Processing Record 25 of Set 2 | ponta do sol\n",
      "list indices must be integers or slices, not str\n",
      "Processing Record 26 of Set 2 | panama city\n",
      "list indices must be integers or slices, not str\n",
      "Processing Record 27 of Set 2 | okha\n",
      "list indices must be integers or slices, not str\n",
      "Processing Record 28 of Set 2 | avarua\n",
      "list indices must be integers or slices, not str\n",
      "Processing Record 29 of Set 2 | arraial do cabo\n",
      "list indices must be integers or slices, not str\n",
      "Processing Record 30 of Set 2 | dikaia\n",
      "'coord'\n",
      "Processing Record 31 of Set 2 | shiloh\n",
      "list indices must be integers or slices, not str\n",
      "Processing Record 32 of Set 2 | bodden town\n",
      "list indices must be integers or slices, not str\n",
      "Processing Record 33 of Set 2 | atuona\n",
      "list indices must be integers or slices, not str\n",
      "Processing Record 34 of Set 2 | paramo\n",
      "list indices must be integers or slices, not str\n",
      "Processing Record 35 of Set 2 | pasighat\n",
      "list indices must be integers or slices, not str\n",
      "Processing Record 36 of Set 2 | beringovskiy\n",
      "list indices must be integers or slices, not str\n",
      "Processing Record 37 of Set 2 | luanda\n",
      "list indices must be integers or slices, not str\n",
      "Processing Record 38 of Set 2 | saint anthony\n",
      "list indices must be integers or slices, not str\n",
      "Processing Record 39 of Set 2 | barentsburg\n",
      "'coord'\n",
      "Processing Record 40 of Set 2 | bismarck\n",
      "list indices must be integers or slices, not str\n",
      "Processing Record 41 of Set 2 | bredasdorp\n",
      "list indices must be integers or slices, not str\n",
      "Processing Record 42 of Set 2 | guerrero negro\n",
      "list indices must be integers or slices, not str\n",
      "Processing Record 43 of Set 2 | itoman\n",
      "list indices must be integers or slices, not str\n",
      "Processing Record 44 of Set 2 | carnarvon\n",
      "list indices must be integers or slices, not str\n",
      "Processing Record 45 of Set 2 | phalaborwa\n"
     ]
    },
    {
     "name": "stdout",
     "output_type": "stream",
     "text": [
      "list indices must be integers or slices, not str\n",
      "Processing Record 46 of Set 2 | hounde\n",
      "list indices must be integers or slices, not str\n",
      "Processing Record 47 of Set 2 | pangnirtung\n",
      "list indices must be integers or slices, not str\n",
      "Processing Record 48 of Set 2 | lucea\n",
      "list indices must be integers or slices, not str\n",
      "Processing Record 49 of Set 2 | esso\n",
      "list indices must be integers or slices, not str\n",
      "Processing Record 50 of Set 2 | umm lajj\n",
      "list indices must be integers or slices, not str\n"
     ]
    }
   ],
   "source": [
    "# Loop through all the cities in the list.\n",
    "for i, city in enumerate(cities):\n",
    "\n",
    "    # Group cities in sets of 50 for logging purposes.\n",
    "    if (i % 50 == 0 and i >= 50):\n",
    "        set_count += 1\n",
    "        record_count = 1\n",
    "        time.sleep(60)\n",
    "\n",
    "    # Create endpoint URL with each city.\n",
    "    city_url = url + \"&q=\" + city.replace(\" \",\"+\")\n",
    "\n",
    "    # Log the URL, record, and set numbers and the city.\n",
    "    print(f\"Processing Record {record_count} of Set {set_count} | {city}\")\n",
    "    # Add 1 to the record count.\n",
    "    record_count += 1\n",
    "    # Run an API request for each of the cities.\n",
    "    try:\n",
    "        # Parse the JSON and retrieve data.\n",
    "        city_weather = requests.get(city_url).json()\n",
    "        # Parse out the needed data.\n",
    "        city_lat = city_weather[\"coord\"][\"lat\"]\n",
    "        city_lng = city_weather[\"coord\"][\"lon\"]\n",
    "        city_max_temp = city_weather[\"main\"][\"temp_max\"]\n",
    "        city_humidity = city_weather[\"main\"][\"humidity\"]\n",
    "        city_clouds = city_weather[\"clouds\"][\"all\"]\n",
    "        city_description= city_weather[\"weather\"][\"description\"]\n",
    "        city_wind = city_weather[\"wind\"][\"speed\"]\n",
    "        city_country = city_weather[\"sys\"][\"country\"]\n",
    "        # Convert the date to ISO standard.\n",
    "        city_date = datetime.utcfromtimestamp(city_weather[\"dt\"]).strftime('%Y-%m-%d %H:%M:%S')\n",
    "        # Append the city information into city_data list.\n",
    "        city_data.append({\"City\": city.title(),\n",
    "                          \"Lat\": city_lat,\n",
    "                          \"Lng\": city_lng,\n",
    "                          \"Max Temp\": city_max_temp,\n",
    "                          \"Humidity\": city_humidity,\n",
    "                          \"Cloudiness\": city_clouds,\n",
    "                          \"Description\": city_description,\n",
    "                          \"Wind Speed\": city_wind,\n",
    "                          \"Country\": city_country,\n",
    "                          \"Date\": city_date})\n",
    "\n",
    "# If an error is experienced, skip the city.\n",
    "    except Exception as e:\n",
    "        print(e)\n",
    "        pass\n",
    "\n",
    "# Indicate that Data Loading is complete.\n",
    "print(\"-----------------------------\")\n",
    "print(\"Data Retrieval Complete      \")\n",
    "print(\"-----------------------------\")"
   ]
  },
  {
   "cell_type": "code",
   "execution_count": null,
   "id": "0b3bdb82",
   "metadata": {},
   "outputs": [],
   "source": [
    "city_data"
   ]
  },
  {
   "cell_type": "code",
   "execution_count": null,
   "id": "234b894c",
   "metadata": {},
   "outputs": [],
   "source": [
    "# Convert the array of dictionaries to a Pandas DataFrame.\n",
    "city_data_df = pd.DataFrame(city_data)\n",
    "city_data_df.head(10)"
   ]
  },
  {
   "cell_type": "code",
   "execution_count": null,
   "id": "09763e8c",
   "metadata": {},
   "outputs": [],
   "source": [
    "new_column_order = [\"City\", \"Country\", \"Date\", \"Lat\", \"Lng\",\"Description\", \"Max Temp\", \"Humidity\", \"Cloudiness\",\"Wind Speed\"]"
   ]
  },
  {
   "cell_type": "code",
   "execution_count": null,
   "id": "a9eb575d",
   "metadata": {},
   "outputs": [],
   "source": [
    "city_data_df= city_data_df[new_column_order]"
   ]
  },
  {
   "cell_type": "code",
   "execution_count": null,
   "id": "df2508f3",
   "metadata": {},
   "outputs": [],
   "source": []
  }
 ],
 "metadata": {
  "kernelspec": {
   "display_name": "PythonData",
   "language": "python",
   "name": "pythondata"
  },
  "language_info": {
   "codemirror_mode": {
    "name": "ipython",
    "version": 3
   },
   "file_extension": ".py",
   "mimetype": "text/x-python",
   "name": "python",
   "nbconvert_exporter": "python",
   "pygments_lexer": "ipython3",
   "version": "3.7.13"
  }
 },
 "nbformat": 4,
 "nbformat_minor": 5
}
